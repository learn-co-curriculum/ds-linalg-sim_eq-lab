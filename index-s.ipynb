{
 "cells": [
  {
   "cell_type": "markdown",
   "metadata": {},
   "source": [
    "# Simultaneuous Equations\n",
    "\n",
    "Following scenarios present problems that can be solved as system of equations, while performing substitutions and eliminations as we saw in the previous lesson. Solve these problems by hand, showing all the steps to work out the unknown variable values. \n",
    "\n",
    "## Exercise 1\n",
    "Joe paid 12 $ for 4 cups of coffe and 4 cups of tea. 3 cups of coffee cost as much as 2 cups of tea. \n",
    "\n",
    "What would be the total cost of 5 cups of coffee and 5 cups of tea ?"
   ]
  },
  {
   "cell_type": "markdown",
   "metadata": {},
   "source": [
    "## Solution\n",
    "\n",
    "> Let x be the unit price of coffee and y be the unit price of tea\n",
    "4x+4y = 12 - A\n",
    "\n",
    "3x -2y = 0 - B\n",
    "\n",
    "* From (A): \n",
    "\n",
    "x = 3-y\n",
    "\n",
    "* Substituting y in (B): \n",
    "\n",
    "3(3-y) - 2y = 0\n",
    "\n",
    "9 - 3y - 2y = 6\n",
    "\n",
    "**y = 9/5 = 1.8**\n",
    "\n",
    "* From (A)\n",
    "\n",
    "4x +4(1.8) = 12\n",
    "\n",
    "x = (12-7.2)/4\n",
    "\n",
    "**x = 1.2**\n",
    "\n",
    "* Check condition 3x = 2y\n",
    "\n",
    "3(1.2) = 2(1.8)\n",
    "\n",
    "3.6 = 3.6 \n",
    "\n",
    "* 5 cups of tea and 5 cups of coffee\n",
    "\n",
    "5(1.2)+ 5(1.8)\n",
    "\n",
    "= 15 dollars. "
   ]
  },
  {
   "cell_type": "markdown",
   "metadata": {},
   "source": [
    "## Exercise 2\n",
    "\n",
    "Jim has more money than Bob.  If Jim gave Bob \\$20, they would have the same amount.  While if Bob gave Jim $22, Jim would then have twice as much as Bob. How much does each one actually have?"
   ]
  },
  {
   "cell_type": "markdown",
   "metadata": {},
   "source": [
    "## Solution\n",
    "> Let x be the amount of money that Jim has and y be the amount that Bob has.\n",
    "\n",
    "* If Jim gave Bob $20, they would have the same amount.\n",
    "\n",
    "1)   x − 20 = y + 20\n",
    "\n",
    "* If Bob gave Jim $22, Jim would then have twice as much as Bob.\n",
    "\n",
    "2)   x + 22 = 2(y − 22)\n",
    "\n",
    "* From (1)\n",
    "\n",
    "x = y + 40 (3)\n",
    "\n",
    "* Substitute x in (2)\n",
    "\n",
    "y + 40 + 22\t= 2(y − 22)\n",
    "\n",
    "**y = 106** (Bob's amount)\n",
    "\n",
    "* From (3)\n",
    "\n",
    "x = 106 + 40\n",
    "\n",
    "**x = 146** (Jim's amount)\n"
   ]
  },
  {
   "cell_type": "markdown",
   "metadata": {},
   "source": [
    "## Exercise 3\n",
    "\n",
    "Mia has 30 coins, consisting of quarters (25 cents) and dimes (10 cents), which total to the amount $5.70.  \n",
    "How many of each does she have?"
   ]
  },
  {
   "cell_type": "markdown",
   "metadata": {},
   "source": [
    "## Solution\n",
    ">Let x be the number of quarters and y be the number of dimes.\n",
    "\n",
    "The equations are:\n",
    "\n",
    "1)  \tx +\ty =\t30\n",
    " \n",
    "2)     .25x\t+ .10y\t= 5.70\n",
    "\n",
    "To eliminate y, multiply equation (1) by −10  and equation 2) by 100:\n",
    "\n",
    "3)  \t−10x − 10y\t= −300\n",
    " \n",
    "4)  \t25x\t+ 10y\t= 570\n",
    " \n",
    "Add (3) and (4):\n",
    " \n",
    "15x = 270\n",
    "\n",
    "**x = 18**\n",
    "\n",
    "Therefore,  \n",
    "        \n",
    "**y = 30 − 18 = 12**\n",
    "\n"
   ]
  }
 ],
 "metadata": {
  "kernelspec": {
   "display_name": "Python 3",
   "language": "python",
   "name": "python3"
  },
  "language_info": {
   "codemirror_mode": {
    "name": "ipython",
    "version": 3
   },
   "file_extension": ".py",
   "mimetype": "text/x-python",
   "name": "python",
   "nbconvert_exporter": "python",
   "pygments_lexer": "ipython3",
   "version": "3.6.4"
  }
 },
 "nbformat": 4,
 "nbformat_minor": 2
}
