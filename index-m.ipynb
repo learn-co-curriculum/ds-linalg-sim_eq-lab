{
 "cells": [
  {
   "cell_type": "markdown",
   "metadata": {},
   "source": [
    "# Simultaneuous Equations\n",
    "\n",
    "Following scenarios present problems that can be solved as system of equations, while performing substitutions and eliminations as we saw in the previous lesson. Solve these problems by hand, showing all the steps to work out the unknown variable values. \n",
    "\n",
    "## Exercise 1\n",
    "Joe paid 12 $ for 4 cups of coffe and 4 cups of tea. 3 cups of coffee cost as much as 2 cups of tea. \n",
    "\n",
    "What would be the total cost of 5 cups of coffee and 5 cups of tea ?"
   ]
  },
  {
   "cell_type": "markdown",
   "metadata": {},
   "source": [
    "## Solution\n",
    "\n",
    "> Let x be the unit price of coffee and y be the unit price of tea\n",
    "\n",
    "\n",
    "\n",
    "\n",
    "**Provide solution below**\n",
    "\n",
    "\n"
   ]
  },
  {
   "cell_type": "markdown",
   "metadata": {},
   "source": [
    "\n",
    "\n",
    "\n",
    "\n"
   ]
  },
  {
   "cell_type": "code",
   "execution_count": null,
   "metadata": {},
   "outputs": [],
   "source": [
    "# Answer: x = 1.2 , y = 1.8"
   ]
  },
  {
   "cell_type": "markdown",
   "metadata": {},
   "source": [
    "## Exercise 2\n",
    "\n",
    "Jim has more money than Bob.  If Jim gave Bob \\$20, they would have the same amount.  While if Bob gave Jim $22, Jim would then have twice as much as Bob. How much does each one actually have?"
   ]
  },
  {
   "cell_type": "markdown",
   "metadata": {},
   "source": [
    "## Solution\n",
    "> Let x be the amount of money that Jim has and y be the amount that Bob has.\n",
    "\n",
    "\n",
    "**Provide solution below**\n"
   ]
  },
  {
   "cell_type": "markdown",
   "metadata": {},
   "source": [
    "\n",
    "\n",
    "\n",
    "\n"
   ]
  },
  {
   "cell_type": "code",
   "execution_count": null,
   "metadata": {},
   "outputs": [],
   "source": [
    "# Answer: x = 1.2 , y = 1.8"
   ]
  },
  {
   "cell_type": "markdown",
   "metadata": {},
   "source": [
    "## Exercise 3\n",
    "\n",
    "Mia has 30 coins, consisting of quarters (25 cents) and dimes (10 cents), which total to the amount $5.70.  \n",
    "How many of each does she have?"
   ]
  },
  {
   "cell_type": "markdown",
   "metadata": {},
   "source": [
    "## Solution\n",
    ">Let x be the number of quarters and y be the number of dimes.\n",
    "\n",
    "**Provide solution below**"
   ]
  },
  {
   "cell_type": "markdown",
   "metadata": {},
   "source": [
    "\n",
    "\n",
    "\n",
    "\n"
   ]
  },
  {
   "cell_type": "code",
   "execution_count": null,
   "metadata": {},
   "outputs": [],
   "source": [
    "Answer: x = 18, y = 12"
   ]
  }
 ],
 "metadata": {
  "kernelspec": {
   "display_name": "Python 3",
   "language": "python",
   "name": "python3"
  },
  "language_info": {
   "codemirror_mode": {
    "name": "ipython",
    "version": 3
   },
   "file_extension": ".py",
   "mimetype": "text/x-python",
   "name": "python",
   "nbconvert_exporter": "python",
   "pygments_lexer": "ipython3",
   "version": "3.6.4"
  }
 },
 "nbformat": 4,
 "nbformat_minor": 2
}
